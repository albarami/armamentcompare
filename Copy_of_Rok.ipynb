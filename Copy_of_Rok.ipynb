{
  "nbformat": 4,
  "nbformat_minor": 0,
  "metadata": {
    "colab": {
      "provenance": [],
      "authorship_tag": "ABX9TyNOVPeVfASSJ3FW+n2oi5i4",
      "include_colab_link": true
    },
    "kernelspec": {
      "name": "python3",
      "display_name": "Python 3"
    },
    "language_info": {
      "name": "python"
    }
  },
  "cells": [
    {
      "cell_type": "markdown",
      "metadata": {
        "id": "view-in-github",
        "colab_type": "text"
      },
      "source": [
        "<a href=\"https://colab.research.google.com/github/albarami/armamentcompare/blob/main/Copy_of_Rok.ipynb\" target=\"_parent\"><img src=\"https://colab.research.google.com/assets/colab-badge.svg\" alt=\"Open In Colab\"/></a>"
      ]
    },
    {
      "cell_type": "code",
      "execution_count": null,
      "metadata": {
        "id": "d8s6ItwziQ9O",
        "colab": {
          "base_uri": "https://localhost:8080/"
        },
        "outputId": "5ac55c06-098c-43a8-8669-a4f2578f5d5d"
      },
      "outputs": [
        {
          "output_type": "stream",
          "name": "stdout",
          "text": [
            "Enter stats for the first Aemament السلاح الاول:\n",
            "Attack, الهجوم: 0\n",
            "Defense, الدفاع: 4.6\n",
            "Health, الصحة: 0\n",
            "All Damage, الضرر الكلي: 0\n",
            "Skill Damage, ضرر المهارة: 0\n",
            "Counter Attack, الهجوم المضاد: 0\n",
            "Normal Attack, هجوم عادي: 0\n",
            "\n",
            "Enter stats for the second Armament السلاح الثاني:\n",
            "Attack, الهجوم: 2.4\n",
            "Defense, الدفاع: 1.7\n",
            "Health, الصحة: 0\n",
            "All Damage, الضرر الكلي: .5\n",
            "Skill Damage, ضرر المهارة: 0\n",
            "Counter Attack, الهجوم المضاد: 1.5\n",
            "Normal Attack, هجوم عادي: 0\n",
            "\n",
            "Modified stats for the first Aemament السلاح الاول:\n",
            "Attack: 0.0\n",
            "Defense: 8.049999999999999\n",
            "Health: 0.0\n",
            "All damage: 0.0\n",
            "Skill damage: 0.0\n",
            "Counter Attack: 0.0\n",
            "Normal Attack: 0.0\n",
            "Total: 8.049999999999999\n",
            "\n",
            "Modified stats for the second Armament السلاح الثاني:\n",
            "Attack: 2.4\n",
            "Defense: 2.975\n",
            "Health: 0.0\n",
            "All damage: 1.5\n",
            "Skill damage: 0.0\n",
            "Counter Attack: 0.8999999999999999\n",
            "Normal Attack: 0.0\n",
            "Total: 7.775\n",
            "\n",
            "The First Armament is Stronger السلاح الاول اقوى!\n"
          ]
        }
      ],
      "source": [
        "def get_modified_stats():\n",
        "    attack = float(input(\"Attack, الهجوم: \"))\n",
        "    defense = float(input(\"Defense, الدفاع: \"))\n",
        "    health = float(input(\"Health, الصحة: \"))\n",
        "    all_damage = float(input(\"All Damage, الضرر الكلي: \"))\n",
        "    skill_damage = float(input(\"Skill Damage, ضرر المهارة: \"))\n",
        "    counter_attack = float(input(\"Counter Attack, الهجوم المضاد: \"))\n",
        "    normal_attack = float(input(\"Normal Attack, هجوم عادي: \"))\n",
        "\n",
        "    attack *= 1\n",
        "    defense *= 1.75\n",
        "    health *= 2\n",
        "    all_damage *= 3\n",
        "    skill_damage *= 2\n",
        "    counter_attack *=.6\n",
        "\n",
        "\n",
        "    return attack, defense, health, all_damage, skill_damage, counter_attack, normal_attack\n",
        "\n",
        "print(\"Enter stats for the first Aemament السلاح الاول:\")\n",
        "attack1, defense1, health1, all_damage1, skill_damage1, counter_attack1, normal_attack1 = get_modified_stats()\n",
        "\n",
        "print(\"\\nEnter stats for the second Armament السلاح الثاني:\")\n",
        "attack2, defense2, health2, all_damage2, skill_damage2, counter_attack2, normal_attack2 = get_modified_stats()\n",
        "\n",
        "total1 = attack1 + defense1 + health1 + all_damage1 + skill_damage1 + counter_attack1 + normal_attack1\n",
        "total2 = attack2 + defense2 + health2 + all_damage2 + skill_damage2 + counter_attack2 + normal_attack2\n",
        "\n",
        "print(\"\\nModified stats for the first Aemament السلاح الاول:\")\n",
        "print(f\"Attack: {attack1}\")\n",
        "print(f\"Defense: {defense1}\")\n",
        "print(f\"Health: {health1}\")\n",
        "print(f\"All damage: {all_damage1}\")\n",
        "print(f\"Skill damage: {skill_damage1}\")\n",
        "print(f\"Counter Attack: {counter_attack1}\")\n",
        "print(f\"Normal Attack: {normal_attack1}\")\n",
        "print(f\"Total: {total1}\")\n",
        "\n",
        "print(\"\\nModified stats for the second Armament السلاح الثاني:\")\n",
        "print(f\"Attack: {attack2}\")\n",
        "print(f\"Defense: {defense2}\")\n",
        "print(f\"Health: {health2}\")\n",
        "print(f\"All damage: {all_damage2}\")\n",
        "print(f\"Skill damage: {skill_damage2}\")\n",
        "print(f\"Counter Attack: {counter_attack2}\")\n",
        "print(f\"Normal Attack: {normal_attack2}\")\n",
        "print(f\"Total: {total2}\")\n",
        "\n",
        "if total1 > total2:\n",
        "    print(\"\\nThe First Armament is Stronger السلاح الاول اقوى!\")\n",
        "elif total2 > total1:\n",
        "    print(\"\\nThe Second Armament is Strongerالسلاح الثاني اقوى!\")\n",
        "else:\n",
        "    print(\"\\nBoth characters have the same strength! متساوين في القوة\")"
      ]
    }
  ]
}